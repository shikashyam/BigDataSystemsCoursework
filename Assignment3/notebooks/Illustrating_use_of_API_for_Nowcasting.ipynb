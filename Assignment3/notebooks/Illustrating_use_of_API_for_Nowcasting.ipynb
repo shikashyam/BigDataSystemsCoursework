{
  "cells": [
    {
      "cell_type": "markdown",
      "id": "b7874098",
      "metadata": {
        "id": "b7874098"
      },
      "source": [
        "# API for nowcasting\n",
        "\n",
        "This notebook illustrates the use of the API designed by us for nowcasting. The structure.json file is the default input file, in which we can change inputs based on the requirements and request a response from the API.\n",
        "Due to the limited scope of this assignment, we have currently hosted the API locally, and hence will be using localhost link to hit the API."
      ]
    },
    {
      "cell_type": "markdown",
      "id": "00986144",
      "metadata": {
        "id": "00986144"
      },
      "source": [
        "# Import Packages"
      ]
    },
    {
      "cell_type": "code",
      "execution_count": null,
      "id": "6860b604",
      "metadata": {
        "id": "6860b604"
      },
      "outputs": [],
      "source": [
        "import requests\n",
        "import json"
      ]
    },
    {
      "cell_type": "markdown",
      "source": [
        "# Load Json Structure\n",
        "\n",
        "We load the JSON structure in our folder and them stream it accordingly. "
      ],
      "metadata": {
        "id": "7AnjIozzfmmT"
      },
      "id": "7AnjIozzfmmT"
    },
    {
      "cell_type": "code",
      "execution_count": null,
      "id": "1c689a77",
      "metadata": {
        "id": "1c689a77",
        "outputId": "fe9d3c49-8f83-4bcf-db36-443c3f3e2d2c"
      },
      "outputs": [
        {
          "name": "stdout",
          "output_type": "stream",
          "text": [
            "{'latitude': 0, 'longitude': 0, 'date': 'string', 'time': 'string', 'city': 'string', 'state': 'string'}\n"
          ]
        }
      ],
      "source": [
        "with open(\"/Users/sairaghavendraviravalli/Desktop/Projects/neurips-2020-sevir-master-3/structure.json\", 'r') as stream:\n",
        "    config = json.load(stream)\n",
        "print(config)"
      ]
    },
    {
      "cell_type": "markdown",
      "source": [
        "# Update JSON"
      ],
      "metadata": {
        "id": "-TuolhNZgFoC"
      },
      "id": "-TuolhNZgFoC"
    },
    {
      "cell_type": "code",
      "execution_count": null,
      "id": "dd91e7f8",
      "metadata": {
        "id": "dd91e7f8",
        "outputId": "55ef361e-2868-4798-92a2-73153a4b087d"
      },
      "outputs": [
        {
          "name": "stdout",
          "output_type": "stream",
          "text": [
            "{\n",
            "  \"latitude\": 35.015742,\n",
            "  \"longitude\": -96.067844,\n",
            "  \"date\": \"string\",\n",
            "  \"time\": \"string\",\n",
            "  \"city\": \"string\",\n",
            "  \"state\": \"string\"\n",
            "}\n"
          ]
        }
      ],
      "source": [
        "with open(\"/Users/sairaghavendraviravalli/Desktop/Projects/neurips-2020-sevir-master-3/structure.json\", 'r') as stream:\n",
        "    config = json.load(stream)\n",
        "\n",
        "#config[\"location\"][\"date\"][\"time\"]={\"boston\":\"string\":\"string\"}\n",
        "y={\"latitude\":35.015742 ,\"longitude\":-96.067844,\"date\":\"string\",\"time\":\"string\",\"city\":\"string\",\"state\":\"string\"}\n",
        "config.update(y) \n",
        "# Set the model epochs to 50\n",
        "#config['models'][0]['synthetics']['params']['epochs'] = 50\n",
        "\n",
        "print(json.dumps(config, indent=2))"
      ]
    },
    {
      "cell_type": "markdown",
      "source": [
        "# Loading URL"
      ],
      "metadata": {
        "id": "paebsywSgKFL"
      },
      "id": "paebsywSgKFL"
    },
    {
      "cell_type": "code",
      "execution_count": null,
      "id": "b9fe438f",
      "metadata": {
        "id": "b9fe438f"
      },
      "outputs": [],
      "source": [
        "url = 'http://127.0.0.1:8000/input'"
      ]
    },
    {
      "cell_type": "markdown",
      "source": [
        "# Request and Response"
      ],
      "metadata": {
        "id": "klv1e9BagNYY"
      },
      "id": "klv1e9BagNYY"
    },
    {
      "cell_type": "code",
      "execution_count": null,
      "id": "08ebe106",
      "metadata": {
        "id": "08ebe106",
        "outputId": "26c0cf90-a42b-4b0b-93b9-c991082a63da"
      },
      "outputs": [
        {
          "name": "stdout",
          "output_type": "stream",
          "text": [
            "{'status': 'SUCCESS', 'data': {'latitude': 35.015742, 'longitude': -96.067844, 'date': 'string', 'time': 'string', 'city': 'string', 'state': 'string'}, 'output image location': '/Users/sairaghavendraviravalli/Desktop/Projects/neurips-2020-sevir-master-3/src/data/sample.png'}\n"
          ]
        }
      ],
      "source": [
        "resp = requests.post(url, json=config)\n",
        "print(resp.json())"
      ]
    },
    {
      "cell_type": "code",
      "execution_count": null,
      "id": "aea3bd35",
      "metadata": {
        "id": "aea3bd35",
        "outputId": "6d3189b8-4dd3-4f89-cb7f-ac83bd4a276c"
      },
      "outputs": [
        {
          "name": "stdout",
          "output_type": "stream",
          "text": [
            "{\n",
            "  \"latitude\": \"0\",\n",
            "  \"longitude\": \"0\",\n",
            "  \"date\": \"\",\n",
            "  \"time\": \"15:32\",\n",
            "  \"city\": \"BARRY\",\n",
            "  \"state\": \"MISSOURI\"\n",
            "}\n"
          ]
        }
      ],
      "source": [
        "y={\"latitude\":NaN,\"longitude\":NaN,\"date\":\"\",\"time\":\"15:32\",\"city\":\"BARRY\",\"state\":\"MISSOURI\"}\n",
        "config.update(y) \n",
        "# Set the model epochs to 50\n",
        "#config['models'][0]['synthetics']['params']['epochs'] = 50\n",
        "\n",
        "print(json.dumps(config, indent=2))"
      ]
    },
    {
      "cell_type": "code",
      "execution_count": null,
      "id": "d74cb8d0",
      "metadata": {
        "id": "d74cb8d0"
      },
      "outputs": [],
      "source": [
        "url = 'http://127.0.0.1:8000/input'"
      ]
    },
    {
      "cell_type": "code",
      "execution_count": null,
      "id": "83aec62c",
      "metadata": {
        "id": "83aec62c",
        "outputId": "b2daff4e-3548-4b4e-b455-e44db227e261"
      },
      "outputs": [
        {
          "name": "stdout",
          "output_type": "stream",
          "text": [
            "{'status': 'FAIL', 'reason': 'matching event not found'}\n"
          ]
        }
      ],
      "source": [
        "resp = requests.post(url, json=config)\n",
        "print(resp.json())"
      ]
    },
    {
      "cell_type": "code",
      "execution_count": null,
      "id": "2b686bda",
      "metadata": {
        "id": "2b686bda"
      },
      "outputs": [],
      "source": [
        ""
      ]
    }
  ],
  "metadata": {
    "kernelspec": {
      "display_name": "Python 3 (ipykernel)",
      "language": "python",
      "name": "python3"
    },
    "language_info": {
      "codemirror_mode": {
        "name": "ipython",
        "version": 3
      },
      "file_extension": ".py",
      "mimetype": "text/x-python",
      "name": "python",
      "nbconvert_exporter": "python",
      "pygments_lexer": "ipython3",
      "version": "3.9.7"
    },
    "colab": {
      "name": "Illustrating use of API for Nowcasting.ipynb",
      "provenance": [],
      "collapsed_sections": []
    }
  },
  "nbformat": 4,
  "nbformat_minor": 5
}